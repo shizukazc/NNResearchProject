{
 "cells": [
  {
   "cell_type": "markdown",
   "id": "naked-denmark",
   "metadata": {},
   "source": [
    "# AlphaNetPro"
   ]
  },
  {
   "cell_type": "markdown",
   "id": "strong-mason",
   "metadata": {},
   "source": [
    "## Import packages"
   ]
  },
  {
   "cell_type": "code",
   "execution_count": 1,
   "id": "waiting-gabriel",
   "metadata": {},
   "outputs": [],
   "source": [
    "import tensorflow as tf\n",
    "import tensorflow.keras as keras\n",
    "import numpy as np\n",
    "import pandas as pd\n",
    "import matplotlib.pyplot as plt\n",
    "import shap\n",
    "\n",
    "from tensorflow.keras import models, layers\n",
    "from itertools import combinations"
   ]
  },
  {
   "cell_type": "markdown",
   "id": "conditional-franchise",
   "metadata": {},
   "source": [
    "## Create synthetic data"
   ]
  },
  {
   "cell_type": "code",
   "execution_count": 2,
   "id": "homeless-sudan",
   "metadata": {},
   "outputs": [],
   "source": [
    "ndays = 300  # Number of days\n",
    "nfeats = 5   # Number of features\n",
    "\n",
    "raw_data = dict()\n",
    "maxlen = len(str(ndays - 1))\n",
    "for i in range(ndays):\n",
    "    key = 'T' + f'{i}'.zfill(maxlen)\n",
    "    raw_data[key] = np.random.random(nfeats)\n",
    "features = [f'F{i}' for i in range(nfeats)]\n",
    "\n",
    "df = pd.DataFrame(raw_data, index=features)"
   ]
  },
  {
   "cell_type": "code",
   "execution_count": 3,
   "id": "scenic-edition",
   "metadata": {},
   "outputs": [
    {
     "data": {
      "text/html": [
       "<div>\n",
       "<style scoped>\n",
       "    .dataframe tbody tr th:only-of-type {\n",
       "        vertical-align: middle;\n",
       "    }\n",
       "\n",
       "    .dataframe tbody tr th {\n",
       "        vertical-align: top;\n",
       "    }\n",
       "\n",
       "    .dataframe thead th {\n",
       "        text-align: right;\n",
       "    }\n",
       "</style>\n",
       "<table border=\"1\" class=\"dataframe\">\n",
       "  <thead>\n",
       "    <tr style=\"text-align: right;\">\n",
       "      <th></th>\n",
       "      <th>T000</th>\n",
       "      <th>T001</th>\n",
       "      <th>T002</th>\n",
       "      <th>T003</th>\n",
       "      <th>T004</th>\n",
       "      <th>T005</th>\n",
       "      <th>T006</th>\n",
       "      <th>T007</th>\n",
       "      <th>T008</th>\n",
       "      <th>T009</th>\n",
       "      <th>...</th>\n",
       "      <th>T290</th>\n",
       "      <th>T291</th>\n",
       "      <th>T292</th>\n",
       "      <th>T293</th>\n",
       "      <th>T294</th>\n",
       "      <th>T295</th>\n",
       "      <th>T296</th>\n",
       "      <th>T297</th>\n",
       "      <th>T298</th>\n",
       "      <th>T299</th>\n",
       "    </tr>\n",
       "  </thead>\n",
       "  <tbody>\n",
       "    <tr>\n",
       "      <th>F0</th>\n",
       "      <td>0.561847</td>\n",
       "      <td>0.556159</td>\n",
       "      <td>0.373207</td>\n",
       "      <td>0.877459</td>\n",
       "      <td>0.665455</td>\n",
       "      <td>0.177736</td>\n",
       "      <td>0.021531</td>\n",
       "      <td>0.442589</td>\n",
       "      <td>0.227059</td>\n",
       "      <td>0.422070</td>\n",
       "      <td>...</td>\n",
       "      <td>0.049667</td>\n",
       "      <td>0.602843</td>\n",
       "      <td>0.580337</td>\n",
       "      <td>0.936373</td>\n",
       "      <td>0.240154</td>\n",
       "      <td>0.552995</td>\n",
       "      <td>0.032935</td>\n",
       "      <td>0.634336</td>\n",
       "      <td>0.804172</td>\n",
       "      <td>0.309535</td>\n",
       "    </tr>\n",
       "    <tr>\n",
       "      <th>F1</th>\n",
       "      <td>0.936933</td>\n",
       "      <td>0.083131</td>\n",
       "      <td>0.786935</td>\n",
       "      <td>0.196082</td>\n",
       "      <td>0.747721</td>\n",
       "      <td>0.517100</td>\n",
       "      <td>0.428441</td>\n",
       "      <td>0.531680</td>\n",
       "      <td>0.889945</td>\n",
       "      <td>0.090909</td>\n",
       "      <td>...</td>\n",
       "      <td>0.815135</td>\n",
       "      <td>0.401051</td>\n",
       "      <td>0.221881</td>\n",
       "      <td>0.780806</td>\n",
       "      <td>0.231722</td>\n",
       "      <td>0.470978</td>\n",
       "      <td>0.256339</td>\n",
       "      <td>0.570805</td>\n",
       "      <td>0.368559</td>\n",
       "      <td>0.335695</td>\n",
       "    </tr>\n",
       "    <tr>\n",
       "      <th>F2</th>\n",
       "      <td>0.260988</td>\n",
       "      <td>0.672641</td>\n",
       "      <td>0.939384</td>\n",
       "      <td>0.333104</td>\n",
       "      <td>0.236288</td>\n",
       "      <td>0.727627</td>\n",
       "      <td>0.940672</td>\n",
       "      <td>0.222917</td>\n",
       "      <td>0.565081</td>\n",
       "      <td>0.286562</td>\n",
       "      <td>...</td>\n",
       "      <td>0.425886</td>\n",
       "      <td>0.780106</td>\n",
       "      <td>0.985521</td>\n",
       "      <td>0.908501</td>\n",
       "      <td>0.165153</td>\n",
       "      <td>0.073489</td>\n",
       "      <td>0.507545</td>\n",
       "      <td>0.578147</td>\n",
       "      <td>0.299942</td>\n",
       "      <td>0.187873</td>\n",
       "    </tr>\n",
       "    <tr>\n",
       "      <th>F3</th>\n",
       "      <td>0.565483</td>\n",
       "      <td>0.999780</td>\n",
       "      <td>0.689166</td>\n",
       "      <td>0.172858</td>\n",
       "      <td>0.049088</td>\n",
       "      <td>0.034513</td>\n",
       "      <td>0.946713</td>\n",
       "      <td>0.970514</td>\n",
       "      <td>0.127533</td>\n",
       "      <td>0.928260</td>\n",
       "      <td>...</td>\n",
       "      <td>0.818316</td>\n",
       "      <td>0.933305</td>\n",
       "      <td>0.531704</td>\n",
       "      <td>0.499935</td>\n",
       "      <td>0.492364</td>\n",
       "      <td>0.392439</td>\n",
       "      <td>0.595098</td>\n",
       "      <td>0.893342</td>\n",
       "      <td>0.245649</td>\n",
       "      <td>0.709278</td>\n",
       "    </tr>\n",
       "    <tr>\n",
       "      <th>F4</th>\n",
       "      <td>0.668637</td>\n",
       "      <td>0.539143</td>\n",
       "      <td>0.393539</td>\n",
       "      <td>0.604186</td>\n",
       "      <td>0.569365</td>\n",
       "      <td>0.075279</td>\n",
       "      <td>0.934851</td>\n",
       "      <td>0.623224</td>\n",
       "      <td>0.239556</td>\n",
       "      <td>0.674519</td>\n",
       "      <td>...</td>\n",
       "      <td>0.130948</td>\n",
       "      <td>0.323797</td>\n",
       "      <td>0.528140</td>\n",
       "      <td>0.800513</td>\n",
       "      <td>0.046259</td>\n",
       "      <td>0.179088</td>\n",
       "      <td>0.483346</td>\n",
       "      <td>0.547428</td>\n",
       "      <td>0.719714</td>\n",
       "      <td>0.377944</td>\n",
       "    </tr>\n",
       "  </tbody>\n",
       "</table>\n",
       "<p>5 rows × 300 columns</p>\n",
       "</div>"
      ],
      "text/plain": [
       "        T000      T001      T002      T003      T004      T005      T006  \\\n",
       "F0  0.561847  0.556159  0.373207  0.877459  0.665455  0.177736  0.021531   \n",
       "F1  0.936933  0.083131  0.786935  0.196082  0.747721  0.517100  0.428441   \n",
       "F2  0.260988  0.672641  0.939384  0.333104  0.236288  0.727627  0.940672   \n",
       "F3  0.565483  0.999780  0.689166  0.172858  0.049088  0.034513  0.946713   \n",
       "F4  0.668637  0.539143  0.393539  0.604186  0.569365  0.075279  0.934851   \n",
       "\n",
       "        T007      T008      T009  ...      T290      T291      T292      T293  \\\n",
       "F0  0.442589  0.227059  0.422070  ...  0.049667  0.602843  0.580337  0.936373   \n",
       "F1  0.531680  0.889945  0.090909  ...  0.815135  0.401051  0.221881  0.780806   \n",
       "F2  0.222917  0.565081  0.286562  ...  0.425886  0.780106  0.985521  0.908501   \n",
       "F3  0.970514  0.127533  0.928260  ...  0.818316  0.933305  0.531704  0.499935   \n",
       "F4  0.623224  0.239556  0.674519  ...  0.130948  0.323797  0.528140  0.800513   \n",
       "\n",
       "        T294      T295      T296      T297      T298      T299  \n",
       "F0  0.240154  0.552995  0.032935  0.634336  0.804172  0.309535  \n",
       "F1  0.231722  0.470978  0.256339  0.570805  0.368559  0.335695  \n",
       "F2  0.165153  0.073489  0.507545  0.578147  0.299942  0.187873  \n",
       "F3  0.492364  0.392439  0.595098  0.893342  0.245649  0.709278  \n",
       "F4  0.046259  0.179088  0.483346  0.547428  0.719714  0.377944  \n",
       "\n",
       "[5 rows x 300 columns]"
      ]
     },
     "execution_count": 3,
     "metadata": {},
     "output_type": "execute_result"
    }
   ],
   "source": [
    "df"
   ]
  },
  {
   "cell_type": "markdown",
   "id": "heard-irish",
   "metadata": {},
   "source": [
    "## Function to Generate Samples"
   ]
  },
  {
   "cell_type": "code",
   "execution_count": 34,
   "id": "clean-joshua",
   "metadata": {},
   "outputs": [],
   "source": [
    "# rtdays=5 means the target value would be the 5-day return\n",
    "def generate_samples(data, rtdays=5, width=30, strides=1):\n",
    "    dates = []\n",
    "    samples = []\n",
    "    targets = []\n",
    "    \n",
    "    i = data.shape[1] - 1 - rtdays\n",
    "    \n",
    "    while i - width + 1 >= 0:\n",
    "        rt = (data.iloc[-1,i+rtdays] - data.iloc[-1,i]) / data.iloc[-1,i]\n",
    "        \n",
    "        dates.append(data.columns[i])\n",
    "        samples.append(data.iloc[:,i-width+1:i+1])\n",
    "        targets.append(rt)\n",
    "        \n",
    "        i -= strides\n",
    "    \n",
    "    dates.reverse()\n",
    "    samples.reverse()\n",
    "    targets.reverse()\n",
    "    \n",
    "    return dates, samples, targets"
   ]
  },
  {
   "cell_type": "code",
   "execution_count": 35,
   "id": "mechanical-california",
   "metadata": {},
   "outputs": [],
   "source": [
    "dates, samples, targets = generate_samples(df, strides=2)"
   ]
  },
  {
   "cell_type": "code",
   "execution_count": 36,
   "id": "prescribed-column",
   "metadata": {},
   "outputs": [
    {
     "data": {
      "text/plain": [
       "133"
      ]
     },
     "execution_count": 36,
     "metadata": {},
     "output_type": "execute_result"
    }
   ],
   "source": [
    "len(dates)"
   ]
  },
  {
   "cell_type": "code",
   "execution_count": 37,
   "id": "coordinate-reservoir",
   "metadata": {},
   "outputs": [
    {
     "data": {
      "text/plain": [
       "133"
      ]
     },
     "execution_count": 37,
     "metadata": {},
     "output_type": "execute_result"
    }
   ],
   "source": [
    "len(samples)"
   ]
  },
  {
   "cell_type": "code",
   "execution_count": 38,
   "id": "about-karen",
   "metadata": {},
   "outputs": [
    {
     "data": {
      "text/plain": [
       "133"
      ]
     },
     "execution_count": 38,
     "metadata": {},
     "output_type": "execute_result"
    }
   ],
   "source": [
    "len(targets)"
   ]
  },
  {
   "cell_type": "code",
   "execution_count": 39,
   "id": "compressed-dublin",
   "metadata": {},
   "outputs": [
    {
     "data": {
      "text/plain": [
       "['T030',\n",
       " 'T032',\n",
       " 'T034',\n",
       " 'T036',\n",
       " 'T038',\n",
       " 'T040',\n",
       " 'T042',\n",
       " 'T044',\n",
       " 'T046',\n",
       " 'T048']"
      ]
     },
     "execution_count": 39,
     "metadata": {},
     "output_type": "execute_result"
    }
   ],
   "source": [
    "dates[:10]"
   ]
  },
  {
   "cell_type": "code",
   "execution_count": 40,
   "id": "reflected-workplace",
   "metadata": {},
   "outputs": [
    {
     "data": {
      "text/plain": [
       "['T276',\n",
       " 'T278',\n",
       " 'T280',\n",
       " 'T282',\n",
       " 'T284',\n",
       " 'T286',\n",
       " 'T288',\n",
       " 'T290',\n",
       " 'T292',\n",
       " 'T294']"
      ]
     },
     "execution_count": 40,
     "metadata": {},
     "output_type": "execute_result"
    }
   ],
   "source": [
    "dates[-10:]"
   ]
  },
  {
   "cell_type": "code",
   "execution_count": 41,
   "id": "twelve-richards",
   "metadata": {},
   "outputs": [
    {
     "data": {
      "text/html": [
       "<div>\n",
       "<style scoped>\n",
       "    .dataframe tbody tr th:only-of-type {\n",
       "        vertical-align: middle;\n",
       "    }\n",
       "\n",
       "    .dataframe tbody tr th {\n",
       "        vertical-align: top;\n",
       "    }\n",
       "\n",
       "    .dataframe thead th {\n",
       "        text-align: right;\n",
       "    }\n",
       "</style>\n",
       "<table border=\"1\" class=\"dataframe\">\n",
       "  <thead>\n",
       "    <tr style=\"text-align: right;\">\n",
       "      <th></th>\n",
       "      <th>T001</th>\n",
       "      <th>T002</th>\n",
       "      <th>T003</th>\n",
       "      <th>T004</th>\n",
       "      <th>T005</th>\n",
       "      <th>T006</th>\n",
       "      <th>T007</th>\n",
       "      <th>T008</th>\n",
       "      <th>T009</th>\n",
       "      <th>T010</th>\n",
       "      <th>...</th>\n",
       "      <th>T021</th>\n",
       "      <th>T022</th>\n",
       "      <th>T023</th>\n",
       "      <th>T024</th>\n",
       "      <th>T025</th>\n",
       "      <th>T026</th>\n",
       "      <th>T027</th>\n",
       "      <th>T028</th>\n",
       "      <th>T029</th>\n",
       "      <th>T030</th>\n",
       "    </tr>\n",
       "  </thead>\n",
       "  <tbody>\n",
       "    <tr>\n",
       "      <th>F0</th>\n",
       "      <td>0.556159</td>\n",
       "      <td>0.373207</td>\n",
       "      <td>0.877459</td>\n",
       "      <td>0.665455</td>\n",
       "      <td>0.177736</td>\n",
       "      <td>0.021531</td>\n",
       "      <td>0.442589</td>\n",
       "      <td>0.227059</td>\n",
       "      <td>0.422070</td>\n",
       "      <td>0.923863</td>\n",
       "      <td>...</td>\n",
       "      <td>0.788171</td>\n",
       "      <td>0.689188</td>\n",
       "      <td>0.658864</td>\n",
       "      <td>0.717001</td>\n",
       "      <td>0.803317</td>\n",
       "      <td>0.676335</td>\n",
       "      <td>0.731325</td>\n",
       "      <td>0.321720</td>\n",
       "      <td>0.260146</td>\n",
       "      <td>0.756910</td>\n",
       "    </tr>\n",
       "    <tr>\n",
       "      <th>F1</th>\n",
       "      <td>0.083131</td>\n",
       "      <td>0.786935</td>\n",
       "      <td>0.196082</td>\n",
       "      <td>0.747721</td>\n",
       "      <td>0.517100</td>\n",
       "      <td>0.428441</td>\n",
       "      <td>0.531680</td>\n",
       "      <td>0.889945</td>\n",
       "      <td>0.090909</td>\n",
       "      <td>0.560451</td>\n",
       "      <td>...</td>\n",
       "      <td>0.110840</td>\n",
       "      <td>0.056375</td>\n",
       "      <td>0.968797</td>\n",
       "      <td>0.875142</td>\n",
       "      <td>0.217317</td>\n",
       "      <td>0.280666</td>\n",
       "      <td>0.026681</td>\n",
       "      <td>0.131964</td>\n",
       "      <td>0.478317</td>\n",
       "      <td>0.134705</td>\n",
       "    </tr>\n",
       "    <tr>\n",
       "      <th>F2</th>\n",
       "      <td>0.672641</td>\n",
       "      <td>0.939384</td>\n",
       "      <td>0.333104</td>\n",
       "      <td>0.236288</td>\n",
       "      <td>0.727627</td>\n",
       "      <td>0.940672</td>\n",
       "      <td>0.222917</td>\n",
       "      <td>0.565081</td>\n",
       "      <td>0.286562</td>\n",
       "      <td>0.776221</td>\n",
       "      <td>...</td>\n",
       "      <td>0.664394</td>\n",
       "      <td>0.200664</td>\n",
       "      <td>0.354214</td>\n",
       "      <td>0.919681</td>\n",
       "      <td>0.923825</td>\n",
       "      <td>0.790384</td>\n",
       "      <td>0.422235</td>\n",
       "      <td>0.525505</td>\n",
       "      <td>0.378268</td>\n",
       "      <td>0.936806</td>\n",
       "    </tr>\n",
       "    <tr>\n",
       "      <th>F3</th>\n",
       "      <td>0.999780</td>\n",
       "      <td>0.689166</td>\n",
       "      <td>0.172858</td>\n",
       "      <td>0.049088</td>\n",
       "      <td>0.034513</td>\n",
       "      <td>0.946713</td>\n",
       "      <td>0.970514</td>\n",
       "      <td>0.127533</td>\n",
       "      <td>0.928260</td>\n",
       "      <td>0.150337</td>\n",
       "      <td>...</td>\n",
       "      <td>0.632025</td>\n",
       "      <td>0.102792</td>\n",
       "      <td>0.855916</td>\n",
       "      <td>0.542882</td>\n",
       "      <td>0.327420</td>\n",
       "      <td>0.170417</td>\n",
       "      <td>0.339555</td>\n",
       "      <td>0.030155</td>\n",
       "      <td>0.337590</td>\n",
       "      <td>0.687088</td>\n",
       "    </tr>\n",
       "    <tr>\n",
       "      <th>F4</th>\n",
       "      <td>0.539143</td>\n",
       "      <td>0.393539</td>\n",
       "      <td>0.604186</td>\n",
       "      <td>0.569365</td>\n",
       "      <td>0.075279</td>\n",
       "      <td>0.934851</td>\n",
       "      <td>0.623224</td>\n",
       "      <td>0.239556</td>\n",
       "      <td>0.674519</td>\n",
       "      <td>0.164995</td>\n",
       "      <td>...</td>\n",
       "      <td>0.169398</td>\n",
       "      <td>0.009918</td>\n",
       "      <td>0.020743</td>\n",
       "      <td>0.299153</td>\n",
       "      <td>0.151802</td>\n",
       "      <td>0.905619</td>\n",
       "      <td>0.492402</td>\n",
       "      <td>0.778167</td>\n",
       "      <td>0.035317</td>\n",
       "      <td>0.154821</td>\n",
       "    </tr>\n",
       "  </tbody>\n",
       "</table>\n",
       "<p>5 rows × 30 columns</p>\n",
       "</div>"
      ],
      "text/plain": [
       "        T001      T002      T003      T004      T005      T006      T007  \\\n",
       "F0  0.556159  0.373207  0.877459  0.665455  0.177736  0.021531  0.442589   \n",
       "F1  0.083131  0.786935  0.196082  0.747721  0.517100  0.428441  0.531680   \n",
       "F2  0.672641  0.939384  0.333104  0.236288  0.727627  0.940672  0.222917   \n",
       "F3  0.999780  0.689166  0.172858  0.049088  0.034513  0.946713  0.970514   \n",
       "F4  0.539143  0.393539  0.604186  0.569365  0.075279  0.934851  0.623224   \n",
       "\n",
       "        T008      T009      T010  ...      T021      T022      T023      T024  \\\n",
       "F0  0.227059  0.422070  0.923863  ...  0.788171  0.689188  0.658864  0.717001   \n",
       "F1  0.889945  0.090909  0.560451  ...  0.110840  0.056375  0.968797  0.875142   \n",
       "F2  0.565081  0.286562  0.776221  ...  0.664394  0.200664  0.354214  0.919681   \n",
       "F3  0.127533  0.928260  0.150337  ...  0.632025  0.102792  0.855916  0.542882   \n",
       "F4  0.239556  0.674519  0.164995  ...  0.169398  0.009918  0.020743  0.299153   \n",
       "\n",
       "        T025      T026      T027      T028      T029      T030  \n",
       "F0  0.803317  0.676335  0.731325  0.321720  0.260146  0.756910  \n",
       "F1  0.217317  0.280666  0.026681  0.131964  0.478317  0.134705  \n",
       "F2  0.923825  0.790384  0.422235  0.525505  0.378268  0.936806  \n",
       "F3  0.327420  0.170417  0.339555  0.030155  0.337590  0.687088  \n",
       "F4  0.151802  0.905619  0.492402  0.778167  0.035317  0.154821  \n",
       "\n",
       "[5 rows x 30 columns]"
      ]
     },
     "execution_count": 41,
     "metadata": {},
     "output_type": "execute_result"
    }
   ],
   "source": [
    "samples[0]"
   ]
  },
  {
   "cell_type": "code",
   "execution_count": 42,
   "id": "greatest-indie",
   "metadata": {},
   "outputs": [
    {
     "data": {
      "text/html": [
       "<div>\n",
       "<style scoped>\n",
       "    .dataframe tbody tr th:only-of-type {\n",
       "        vertical-align: middle;\n",
       "    }\n",
       "\n",
       "    .dataframe tbody tr th {\n",
       "        vertical-align: top;\n",
       "    }\n",
       "\n",
       "    .dataframe thead th {\n",
       "        text-align: right;\n",
       "    }\n",
       "</style>\n",
       "<table border=\"1\" class=\"dataframe\">\n",
       "  <thead>\n",
       "    <tr style=\"text-align: right;\">\n",
       "      <th></th>\n",
       "      <th>T265</th>\n",
       "      <th>T266</th>\n",
       "      <th>T267</th>\n",
       "      <th>T268</th>\n",
       "      <th>T269</th>\n",
       "      <th>T270</th>\n",
       "      <th>T271</th>\n",
       "      <th>T272</th>\n",
       "      <th>T273</th>\n",
       "      <th>T274</th>\n",
       "      <th>...</th>\n",
       "      <th>T285</th>\n",
       "      <th>T286</th>\n",
       "      <th>T287</th>\n",
       "      <th>T288</th>\n",
       "      <th>T289</th>\n",
       "      <th>T290</th>\n",
       "      <th>T291</th>\n",
       "      <th>T292</th>\n",
       "      <th>T293</th>\n",
       "      <th>T294</th>\n",
       "    </tr>\n",
       "  </thead>\n",
       "  <tbody>\n",
       "    <tr>\n",
       "      <th>F0</th>\n",
       "      <td>0.410957</td>\n",
       "      <td>0.765139</td>\n",
       "      <td>0.975005</td>\n",
       "      <td>0.707270</td>\n",
       "      <td>0.054768</td>\n",
       "      <td>0.073876</td>\n",
       "      <td>0.170793</td>\n",
       "      <td>0.068277</td>\n",
       "      <td>0.821444</td>\n",
       "      <td>0.039953</td>\n",
       "      <td>...</td>\n",
       "      <td>0.407677</td>\n",
       "      <td>0.307475</td>\n",
       "      <td>0.110347</td>\n",
       "      <td>0.118180</td>\n",
       "      <td>0.523271</td>\n",
       "      <td>0.049667</td>\n",
       "      <td>0.602843</td>\n",
       "      <td>0.580337</td>\n",
       "      <td>0.936373</td>\n",
       "      <td>0.240154</td>\n",
       "    </tr>\n",
       "    <tr>\n",
       "      <th>F1</th>\n",
       "      <td>0.472683</td>\n",
       "      <td>0.450313</td>\n",
       "      <td>0.715101</td>\n",
       "      <td>0.612830</td>\n",
       "      <td>0.175354</td>\n",
       "      <td>0.035162</td>\n",
       "      <td>0.937566</td>\n",
       "      <td>0.603728</td>\n",
       "      <td>0.320928</td>\n",
       "      <td>0.580583</td>\n",
       "      <td>...</td>\n",
       "      <td>0.324284</td>\n",
       "      <td>0.493470</td>\n",
       "      <td>0.185797</td>\n",
       "      <td>0.357509</td>\n",
       "      <td>0.124449</td>\n",
       "      <td>0.815135</td>\n",
       "      <td>0.401051</td>\n",
       "      <td>0.221881</td>\n",
       "      <td>0.780806</td>\n",
       "      <td>0.231722</td>\n",
       "    </tr>\n",
       "    <tr>\n",
       "      <th>F2</th>\n",
       "      <td>0.278356</td>\n",
       "      <td>0.352683</td>\n",
       "      <td>0.315111</td>\n",
       "      <td>0.134359</td>\n",
       "      <td>0.313781</td>\n",
       "      <td>0.238001</td>\n",
       "      <td>0.073813</td>\n",
       "      <td>0.196808</td>\n",
       "      <td>0.953729</td>\n",
       "      <td>0.438698</td>\n",
       "      <td>...</td>\n",
       "      <td>0.531658</td>\n",
       "      <td>0.187561</td>\n",
       "      <td>0.745921</td>\n",
       "      <td>0.912052</td>\n",
       "      <td>0.960048</td>\n",
       "      <td>0.425886</td>\n",
       "      <td>0.780106</td>\n",
       "      <td>0.985521</td>\n",
       "      <td>0.908501</td>\n",
       "      <td>0.165153</td>\n",
       "    </tr>\n",
       "    <tr>\n",
       "      <th>F3</th>\n",
       "      <td>0.439742</td>\n",
       "      <td>0.320578</td>\n",
       "      <td>0.719960</td>\n",
       "      <td>0.220081</td>\n",
       "      <td>0.686680</td>\n",
       "      <td>0.678160</td>\n",
       "      <td>0.854477</td>\n",
       "      <td>0.466518</td>\n",
       "      <td>0.064277</td>\n",
       "      <td>0.287079</td>\n",
       "      <td>...</td>\n",
       "      <td>0.246215</td>\n",
       "      <td>0.187429</td>\n",
       "      <td>0.354687</td>\n",
       "      <td>0.437826</td>\n",
       "      <td>0.056581</td>\n",
       "      <td>0.818316</td>\n",
       "      <td>0.933305</td>\n",
       "      <td>0.531704</td>\n",
       "      <td>0.499935</td>\n",
       "      <td>0.492364</td>\n",
       "    </tr>\n",
       "    <tr>\n",
       "      <th>F4</th>\n",
       "      <td>0.846354</td>\n",
       "      <td>0.688830</td>\n",
       "      <td>0.001974</td>\n",
       "      <td>0.543298</td>\n",
       "      <td>0.309806</td>\n",
       "      <td>0.602124</td>\n",
       "      <td>0.266064</td>\n",
       "      <td>0.750834</td>\n",
       "      <td>0.388592</td>\n",
       "      <td>0.449374</td>\n",
       "      <td>...</td>\n",
       "      <td>0.593193</td>\n",
       "      <td>0.306052</td>\n",
       "      <td>0.534498</td>\n",
       "      <td>0.618617</td>\n",
       "      <td>0.542047</td>\n",
       "      <td>0.130948</td>\n",
       "      <td>0.323797</td>\n",
       "      <td>0.528140</td>\n",
       "      <td>0.800513</td>\n",
       "      <td>0.046259</td>\n",
       "    </tr>\n",
       "  </tbody>\n",
       "</table>\n",
       "<p>5 rows × 30 columns</p>\n",
       "</div>"
      ],
      "text/plain": [
       "        T265      T266      T267      T268      T269      T270      T271  \\\n",
       "F0  0.410957  0.765139  0.975005  0.707270  0.054768  0.073876  0.170793   \n",
       "F1  0.472683  0.450313  0.715101  0.612830  0.175354  0.035162  0.937566   \n",
       "F2  0.278356  0.352683  0.315111  0.134359  0.313781  0.238001  0.073813   \n",
       "F3  0.439742  0.320578  0.719960  0.220081  0.686680  0.678160  0.854477   \n",
       "F4  0.846354  0.688830  0.001974  0.543298  0.309806  0.602124  0.266064   \n",
       "\n",
       "        T272      T273      T274  ...      T285      T286      T287      T288  \\\n",
       "F0  0.068277  0.821444  0.039953  ...  0.407677  0.307475  0.110347  0.118180   \n",
       "F1  0.603728  0.320928  0.580583  ...  0.324284  0.493470  0.185797  0.357509   \n",
       "F2  0.196808  0.953729  0.438698  ...  0.531658  0.187561  0.745921  0.912052   \n",
       "F3  0.466518  0.064277  0.287079  ...  0.246215  0.187429  0.354687  0.437826   \n",
       "F4  0.750834  0.388592  0.449374  ...  0.593193  0.306052  0.534498  0.618617   \n",
       "\n",
       "        T289      T290      T291      T292      T293      T294  \n",
       "F0  0.523271  0.049667  0.602843  0.580337  0.936373  0.240154  \n",
       "F1  0.124449  0.815135  0.401051  0.221881  0.780806  0.231722  \n",
       "F2  0.960048  0.425886  0.780106  0.985521  0.908501  0.165153  \n",
       "F3  0.056581  0.818316  0.933305  0.531704  0.499935  0.492364  \n",
       "F4  0.542047  0.130948  0.323797  0.528140  0.800513  0.046259  \n",
       "\n",
       "[5 rows x 30 columns]"
      ]
     },
     "execution_count": 42,
     "metadata": {},
     "output_type": "execute_result"
    }
   ],
   "source": [
    "samples[-1]"
   ]
  },
  {
   "cell_type": "code",
   "execution_count": 43,
   "id": "therapeutic-barrier",
   "metadata": {},
   "outputs": [
    {
     "data": {
      "text/plain": [
       "-0.5939463902823945"
      ]
     },
     "execution_count": 43,
     "metadata": {},
     "output_type": "execute_result"
    }
   ],
   "source": [
    "targets[0]"
   ]
  },
  {
   "cell_type": "code",
   "execution_count": 44,
   "id": "rapid-expansion",
   "metadata": {},
   "outputs": [
    {
     "data": {
      "text/plain": [
       "7.170149687489093"
      ]
     },
     "execution_count": 44,
     "metadata": {},
     "output_type": "execute_result"
    }
   ],
   "source": [
    "targets[-1]"
   ]
  },
  {
   "cell_type": "code",
   "execution_count": 107,
   "id": "acquired-rochester",
   "metadata": {},
   "outputs": [],
   "source": [
    "train_data = np.array(samples[:100], dtype='float32')\n",
    "test_data = np.array(samples[100:], dtype='float32')\n",
    "train_targets = np.array(targets[:100], dtype='float32')\n",
    "test_targets = np.array(targets[100:], dtype='float32')"
   ]
  },
  {
   "cell_type": "markdown",
   "id": "imported-member",
   "metadata": {},
   "source": [
    "## Feature Extraction Functions"
   ]
  },
  {
   "cell_type": "code",
   "execution_count": 52,
   "id": "controlling-management",
   "metadata": {},
   "outputs": [],
   "source": [
    "def ts_corr(X, Y, d=2, s=1):\n",
    "    res = []\n",
    "    i = len(X) - 1\n",
    "    \n",
    "    while i - d + 1 >= 0:\n",
    "        Xsub = X[i-d+1:i+1]\n",
    "        Ysub = Y[i-d+1:i+1]\n",
    "        corr = np.corrcoef(Xsub, Ysub)[0,1]\n",
    "        res.append(corr)\n",
    "        \n",
    "        i -= s\n",
    "\n",
    "    return np.array(res, dtype='float32')"
   ]
  },
  {
   "cell_type": "code",
   "execution_count": 53,
   "id": "extraordinary-connection",
   "metadata": {},
   "outputs": [],
   "source": [
    "def ts_cov(X, Y, d=2, s=1):\n",
    "    res = []\n",
    "    i = len(X) - 1\n",
    "    \n",
    "    while i - d + 1 >= 0:\n",
    "        Xsub = X[i-d+1:i+1]\n",
    "        Ysub = Y[i-d+1:i+1]\n",
    "        cov = np.cov(Xsub, Ysub)[0,1]\n",
    "        res.append(cov)\n",
    "        \n",
    "        i -= s\n",
    "        \n",
    "    return np.array(res, dtype='float32')"
   ]
  },
  {
   "cell_type": "code",
   "execution_count": 109,
   "id": "fluid-canadian",
   "metadata": {},
   "outputs": [],
   "source": [
    "def ts_stdev(X, d=2, s=1):\n",
    "    res = []\n",
    "    i = len(X) - 1\n",
    "    \n",
    "    while i - d + 1 >= 0:\n",
    "        Xsub = X[i-d+1:i+1]\n",
    "        stdev = np.std(Xsub)\n",
    "        res.append(stdev)\n",
    "        \n",
    "        i -= s\n",
    "        \n",
    "    return np.array(res, dtype='float32')"
   ]
  },
  {
   "cell_type": "code",
   "execution_count": 61,
   "id": "cross-cancer",
   "metadata": {},
   "outputs": [],
   "source": [
    "def ts_zscore(X, d=2, s=1):\n",
    "    res = []\n",
    "    i = len(X) - 1\n",
    "    \n",
    "    while i - d + 1 >= 0:\n",
    "        Xsub = X[i-d+1:i+1]\n",
    "        zscore = np.mean(Xsub) / np.std(Xsub)\n",
    "        res.append(zscore)\n",
    "        \n",
    "        i -= s\n",
    "        \n",
    "    return np.array(res, dtype='float32')"
   ]
  },
  {
   "cell_type": "code",
   "execution_count": 65,
   "id": "sustainable-magic",
   "metadata": {},
   "outputs": [],
   "source": [
    "def ts_return(X, d=2, s=1):\n",
    "    res = []\n",
    "    i = len(X) - 1\n",
    "    \n",
    "    while i - d + 1 >= 0:\n",
    "        Xsub = X[i-d+1:i+1]\n",
    "        ret = (Xsub[-1] - Xsub[0]) / Xsub[0]\n",
    "        res.append(ret)\n",
    "        \n",
    "        i -= s\n",
    "        \n",
    "    return np.array(res, dtype='float32')"
   ]
  },
  {
   "cell_type": "code",
   "execution_count": 69,
   "id": "typical-information",
   "metadata": {},
   "outputs": [],
   "source": [
    "def ts_decaylinear(X, d=2, s=1):\n",
    "    res = []\n",
    "    i = len(X) - 1\n",
    "    \n",
    "    while i - d + 1 >= 0:\n",
    "        Xsub = X[i-d+1:i+1]\n",
    "        Wsub = np.array([i for i in range(1, d+1)])\n",
    "        weighted_sum = np.sum(Xsub * Wsub / np.sum(Wsub))\n",
    "        res.append(weighted_sum)\n",
    "        \n",
    "        i -= s\n",
    "        \n",
    "    return np.array(res, dtype='float32')"
   ]
  },
  {
   "cell_type": "code",
   "execution_count": 54,
   "id": "provincial-covering",
   "metadata": {},
   "outputs": [],
   "source": [
    "a = np.array([1, 2, 3, 4, 5])\n",
    "b = np.array([6, 7, 8, 9, 10])"
   ]
  },
  {
   "cell_type": "code",
   "execution_count": 55,
   "id": "particular-extreme",
   "metadata": {},
   "outputs": [
    {
     "data": {
      "text/plain": [
       "array([1.], dtype=float32)"
      ]
     },
     "execution_count": 55,
     "metadata": {},
     "output_type": "execute_result"
    }
   ],
   "source": [
    "ts_corr(a, b, d=3, s=3)"
   ]
  },
  {
   "cell_type": "code",
   "execution_count": 56,
   "id": "balanced-spine",
   "metadata": {},
   "outputs": [
    {
     "data": {
      "text/plain": [
       "array([1.], dtype=float32)"
      ]
     },
     "execution_count": 56,
     "metadata": {},
     "output_type": "execute_result"
    }
   ],
   "source": [
    "ts_cov(a, b, d=3, s=3)"
   ]
  },
  {
   "cell_type": "code",
   "execution_count": 60,
   "id": "center-ready",
   "metadata": {},
   "outputs": [
    {
     "data": {
      "text/plain": [
       "array([0.8164966], dtype=float32)"
      ]
     },
     "execution_count": 60,
     "metadata": {},
     "output_type": "execute_result"
    }
   ],
   "source": [
    "ts_stdev(a, d=3, s=3)"
   ]
  },
  {
   "cell_type": "code",
   "execution_count": 62,
   "id": "false-breakfast",
   "metadata": {},
   "outputs": [
    {
     "data": {
      "text/plain": [
       "array([4.8989797], dtype=float32)"
      ]
     },
     "execution_count": 62,
     "metadata": {},
     "output_type": "execute_result"
    }
   ],
   "source": [
    "ts_zscore(a, d=3, s=3)"
   ]
  },
  {
   "cell_type": "code",
   "execution_count": 66,
   "id": "close-infrared",
   "metadata": {},
   "outputs": [
    {
     "data": {
      "text/plain": [
       "array([0.6666667], dtype=float32)"
      ]
     },
     "execution_count": 66,
     "metadata": {},
     "output_type": "execute_result"
    }
   ],
   "source": [
    "ts_return(a, d=3, s=3)"
   ]
  },
  {
   "cell_type": "code",
   "execution_count": 70,
   "id": "residential-meeting",
   "metadata": {},
   "outputs": [
    {
     "data": {
      "text/plain": [
       "array([4.3333335], dtype=float32)"
      ]
     },
     "execution_count": 70,
     "metadata": {},
     "output_type": "execute_result"
    }
   ],
   "source": [
    "ts_decaylinear(a, d=3, s=3)"
   ]
  },
  {
   "cell_type": "markdown",
   "id": "associate-terrorist",
   "metadata": {},
   "source": [
    "## Pooling Functions"
   ]
  },
  {
   "cell_type": "code",
   "execution_count": 72,
   "id": "greatest-armor",
   "metadata": {},
   "outputs": [],
   "source": [
    "def ts_min(X, d=2, s=1):\n",
    "    res = []\n",
    "    i = len(X) - 1\n",
    "    \n",
    "    while i - d + 1 >= 0:\n",
    "        Xsub = X[i-d+1:i+1]\n",
    "        vmin = np.min(Xsub)\n",
    "        res.append(vmin)\n",
    "        \n",
    "        i -= s\n",
    "        \n",
    "    return np.array(res, dtype='float32')"
   ]
  },
  {
   "cell_type": "code",
   "execution_count": 73,
   "id": "detected-reaction",
   "metadata": {},
   "outputs": [],
   "source": [
    "def ts_max(X, d=2, s=1):\n",
    "    res = []\n",
    "    i = len(X) - 1\n",
    "    \n",
    "    while i - d + 1 >= 0:\n",
    "        Xsub = X[i-d+1:i+1]\n",
    "        vmax = np.max(Xsub)\n",
    "        res.append(vmax)\n",
    "        \n",
    "        i -= s\n",
    "        \n",
    "    return np.array(res, dtype='float32')"
   ]
  },
  {
   "cell_type": "code",
   "execution_count": 74,
   "id": "behavioral-brush",
   "metadata": {},
   "outputs": [],
   "source": [
    "def ts_sum(X, d=2, s=1):\n",
    "    res = []\n",
    "    i = len(X) - 1\n",
    "    \n",
    "    while i - d + 1 >= 0:\n",
    "        Xsub = X[i-d+1:i+1]\n",
    "        vsum = np.sum(Xsub)\n",
    "        res.append(vsum)\n",
    "        \n",
    "        i -= s\n",
    "        \n",
    "    return np.array(res, dtype='float32')"
   ]
  },
  {
   "cell_type": "markdown",
   "id": "binary-nashville",
   "metadata": {},
   "source": [
    "## Function to Generate Synthetic Features"
   ]
  },
  {
   "cell_type": "code",
   "execution_count": 75,
   "id": "optimum-smell",
   "metadata": {},
   "outputs": [],
   "source": [
    "def generate_syn_feats(feats, fn_names):\n",
    "    syn_feats = []\n",
    "    \n",
    "    for fn in fn_names:\n",
    "        if fn in ['ts_corr', 'ts_cov']:\n",
    "            for r1, r2 in combinations(range(len(feats)), 2):\n",
    "                f1 = feats[r1]\n",
    "                f2 = feats[r2]\n",
    "                syn_feats.append(f\"N({fn}({f1},{f2}))\")\n",
    "        else:\n",
    "            for feat in feats:\n",
    "                syn_feats.append(f\"N({fn}({feat}))\")\n",
    "    \n",
    "    return syn_feats"
   ]
  },
  {
   "cell_type": "code",
   "execution_count": 78,
   "id": "minus-nursing",
   "metadata": {},
   "outputs": [],
   "source": [
    "syn_feats = generate_syn_feats(\n",
    "    features,\n",
    "    [\"ts_corr\", \"ts_cov\", \"ts_stdev\", \"ts_zscore\", \"ts_return\", \"ts_decaylinear\"]\n",
    ")"
   ]
  },
  {
   "cell_type": "code",
   "execution_count": 79,
   "id": "fossil-accommodation",
   "metadata": {},
   "outputs": [
    {
     "data": {
      "text/plain": [
       "['N(ts_corr(F0,F1))',\n",
       " 'N(ts_corr(F0,F2))',\n",
       " 'N(ts_corr(F0,F3))',\n",
       " 'N(ts_corr(F0,F4))',\n",
       " 'N(ts_corr(F1,F2))',\n",
       " 'N(ts_corr(F1,F3))',\n",
       " 'N(ts_corr(F1,F4))',\n",
       " 'N(ts_corr(F2,F3))',\n",
       " 'N(ts_corr(F2,F4))',\n",
       " 'N(ts_corr(F3,F4))',\n",
       " 'N(ts_cov(F0,F1))',\n",
       " 'N(ts_cov(F0,F2))',\n",
       " 'N(ts_cov(F0,F3))',\n",
       " 'N(ts_cov(F0,F4))',\n",
       " 'N(ts_cov(F1,F2))',\n",
       " 'N(ts_cov(F1,F3))',\n",
       " 'N(ts_cov(F1,F4))',\n",
       " 'N(ts_cov(F2,F3))',\n",
       " 'N(ts_cov(F2,F4))',\n",
       " 'N(ts_cov(F3,F4))',\n",
       " 'N(ts_stdev(F0))',\n",
       " 'N(ts_stdev(F1))',\n",
       " 'N(ts_stdev(F2))',\n",
       " 'N(ts_stdev(F3))',\n",
       " 'N(ts_stdev(F4))',\n",
       " 'N(ts_zscore(F0))',\n",
       " 'N(ts_zscore(F1))',\n",
       " 'N(ts_zscore(F2))',\n",
       " 'N(ts_zscore(F3))',\n",
       " 'N(ts_zscore(F4))',\n",
       " 'N(ts_return(F0))',\n",
       " 'N(ts_return(F1))',\n",
       " 'N(ts_return(F2))',\n",
       " 'N(ts_return(F3))',\n",
       " 'N(ts_return(F4))',\n",
       " 'N(ts_decaylinear(F0))',\n",
       " 'N(ts_decaylinear(F1))',\n",
       " 'N(ts_decaylinear(F2))',\n",
       " 'N(ts_decaylinear(F3))',\n",
       " 'N(ts_decaylinear(F4))']"
      ]
     },
     "execution_count": 79,
     "metadata": {},
     "output_type": "execute_result"
    }
   ],
   "source": [
    "syn_feats"
   ]
  },
  {
   "cell_type": "code",
   "execution_count": 80,
   "id": "acknowledged-silver",
   "metadata": {},
   "outputs": [
    {
     "data": {
      "text/plain": [
       "40"
      ]
     },
     "execution_count": 80,
     "metadata": {},
     "output_type": "execute_result"
    }
   ],
   "source": [
    "len(syn_feats)"
   ]
  },
  {
   "cell_type": "markdown",
   "id": "stylish-savings",
   "metadata": {},
   "source": [
    "## Function to Generate Synthetic Samples"
   ]
  },
  {
   "cell_type": "code",
   "execution_count": 126,
   "id": "incident-proposition",
   "metadata": {},
   "outputs": [],
   "source": [
    "def generate_syn_samples(train_data, test_data, width=2, strides=1):\n",
    "    feomap = { 'train': [], 'test': [] }\n",
    "    fefns = (ts_corr, ts_cov, ts_stdev, ts_zscore, ts_return, ts_decaylinear)\n",
    "    nfeats = train_data[0].shape[0]\n",
    "    \n",
    "    for sample in train_data:\n",
    "        feoutput = []\n",
    "        \n",
    "        for fefn in fefns:\n",
    "            if fefn in [ts_corr, ts_cov]:\n",
    "                for r1, r2 in combinations(range(nfeats), 2):\n",
    "                    res = fefn(sample[r1], sample[r2], d=width, s=strides)\n",
    "                    feoutput.append(res)\n",
    "            else:\n",
    "                for row in sample:\n",
    "                    res = fefn(row, d=width, s=strides)\n",
    "                    feoutput.append(res)\n",
    "                    \n",
    "        feomap['train'].append(feoutput)\n",
    "        \n",
    "    for sample in test_data:\n",
    "        feoutput = []\n",
    "        \n",
    "        for fefn in fefns:\n",
    "            if fefn in [ts_corr, ts_cov]:\n",
    "                for r1, r2 in combinations(range(nfeats), 2):\n",
    "                    res = fefn(sample[r1], sample[r2], d=width, s=strides)\n",
    "                    feoutput.append(res)\n",
    "            else:\n",
    "                for row in sample:\n",
    "                    res = fefn(row, d=width, s=strides)\n",
    "                    feoutput.append(res)\n",
    "                    \n",
    "        feomap['test'].append(feoutput)\n",
    "    \n",
    "    feomap['train'] = np.array(feomap['train'], dtype='float32')\n",
    "    feomap['test'] = np.array(feomap['test'], dtype='float32')\n",
    "    \n",
    "    # Normalize\n",
    "    nrows, ncols = feomap['train'][0].shape\n",
    "    \n",
    "    for i in range(nrows):\n",
    "        for j in range(ncols):\n",
    "            arr = []\n",
    "            \n",
    "            for sample in feomap['train']:\n",
    "                arr.append(sample[i,j])\n",
    "                \n",
    "            arr_mean = np.mean(arr)\n",
    "            arr_stdev = np.std(arr)\n",
    "            \n",
    "            for sample in feomap['train']:\n",
    "                sample[i,j] = (sample[i,j] - arr_mean) / arr_stdev\n",
    "                \n",
    "            for sample in feomap['test']:\n",
    "                sample[i,j] = (sample[i,j] - arr_mean) / arr_stdev\n",
    "\n",
    "    return feomap"
   ]
  },
  {
   "cell_type": "code",
   "execution_count": 127,
   "id": "interior-adult",
   "metadata": {},
   "outputs": [],
   "source": [
    "syn_samples_dict = generate_syn_samples(train_data, test_data, width=3, strides=3)"
   ]
  },
  {
   "cell_type": "code",
   "execution_count": 108,
   "id": "warming-providence",
   "metadata": {},
   "outputs": [
    {
     "data": {
      "text/plain": [
       "array([[0.556159  , 0.37320736, 0.8774587 , 0.6654548 , 0.17773609,\n",
       "        0.02153125, 0.44258922, 0.22705936, 0.42207032, 0.92386305,\n",
       "        0.61660135, 0.4093221 , 0.5757732 , 0.01922725, 0.5751682 ,\n",
       "        0.843652  , 0.37175006, 0.32805958, 0.48219687, 0.55743736,\n",
       "        0.7881714 , 0.6891882 , 0.6588642 , 0.71700144, 0.8033174 ,\n",
       "        0.67633486, 0.7313246 , 0.32172012, 0.26014566, 0.7569098 ],\n",
       "       [0.08313102, 0.78693485, 0.19608183, 0.74772096, 0.51710016,\n",
       "        0.42844117, 0.53168035, 0.88994473, 0.09090896, 0.560451  ,\n",
       "        0.06285619, 0.23122948, 0.20826732, 0.9496844 , 0.7624021 ,\n",
       "        0.10427587, 0.77511305, 0.89397293, 0.07615993, 0.44785556,\n",
       "        0.11084031, 0.05637541, 0.9687968 , 0.87514174, 0.2173173 ,\n",
       "        0.2806659 , 0.02668067, 0.131964  , 0.47831714, 0.13470456],\n",
       "       [0.6726412 , 0.93938375, 0.33310372, 0.23628776, 0.72762746,\n",
       "        0.9406716 , 0.22291717, 0.5650814 , 0.28656173, 0.77622104,\n",
       "        0.12763661, 0.38755268, 0.9095915 , 0.8839083 , 0.72512406,\n",
       "        0.18660723, 0.01137822, 0.7892279 , 0.12118591, 0.4355944 ,\n",
       "        0.6643939 , 0.20066445, 0.354214  , 0.91968095, 0.9238247 ,\n",
       "        0.79038393, 0.42223516, 0.5255046 , 0.37826818, 0.9368063 ],\n",
       "       [0.9997797 , 0.68916565, 0.1728577 , 0.0490876 , 0.03451307,\n",
       "        0.9467128 , 0.9705145 , 0.12753294, 0.92826   , 0.15033667,\n",
       "        0.089127  , 0.70679986, 0.05479552, 0.41716358, 0.35316965,\n",
       "        0.5342348 , 0.7651931 , 0.61335176, 0.96408314, 0.80314535,\n",
       "        0.6320253 , 0.10279186, 0.85591584, 0.54288155, 0.32742003,\n",
       "        0.17041709, 0.33955482, 0.03015509, 0.33759037, 0.6870876 ],\n",
       "       [0.5391431 , 0.39353946, 0.6041855 , 0.5693655 , 0.07527916,\n",
       "        0.9348507 , 0.623224  , 0.23955552, 0.6745192 , 0.16499458,\n",
       "        0.03869271, 0.04005005, 0.9513914 , 0.97545844, 0.7178724 ,\n",
       "        0.5587981 , 0.8427305 , 0.7799574 , 0.07016201, 0.11511069,\n",
       "        0.16939758, 0.00991753, 0.02074337, 0.29915252, 0.15180165,\n",
       "        0.9056186 , 0.4924018 , 0.77816695, 0.03531734, 0.15482123]],\n",
       "      dtype=float32)"
      ]
     },
     "execution_count": 108,
     "metadata": {},
     "output_type": "execute_result"
    }
   ],
   "source": [
    "train_data[0]"
   ]
  },
  {
   "cell_type": "code",
   "execution_count": null,
   "id": "realistic-enterprise",
   "metadata": {},
   "outputs": [],
   "source": []
  }
 ],
 "metadata": {
  "kernelspec": {
   "display_name": "Python 3",
   "language": "python",
   "name": "python3"
  },
  "language_info": {
   "codemirror_mode": {
    "name": "ipython",
    "version": 3
   },
   "file_extension": ".py",
   "mimetype": "text/x-python",
   "name": "python",
   "nbconvert_exporter": "python",
   "pygments_lexer": "ipython3",
   "version": "3.8.5"
  }
 },
 "nbformat": 4,
 "nbformat_minor": 5
}
